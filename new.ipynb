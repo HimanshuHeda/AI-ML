{
 "cells": [
  {
   "cell_type": "markdown",
   "id": "58990e8b",
   "metadata": {},
   "source": [
    "## Data Type Conversion and Data Modification\n",
    "Let's check and modify datatypes or clean/transform data as needed."
   ]
  },
  {
   "cell_type": "code",
   "execution_count": null,
   "id": "22d7592f",
   "metadata": {},
   "outputs": [],
   "source": [
    "# Check current datatypes\n",
    "print(df.dtypes)\n",
    "# Example: Convert 'Year' to int if not already\n",
    "if df['Year'].dtype != 'int64':\n",
    "    df['Year'] = pd.to_numeric(df['Year'], errors='coerce').astype('Int64')\n",
    "# Example: Convert 'Price' to float if not already\n",
    "if 'Price' in df.columns and df['Price'].dtype != 'float64':\n",
    "    df['Price'] = pd.to_numeric(df['Price'], errors='coerce')\n",
    "# Example: Convert 'Date' columns to datetime if present\n",
    "for col in df.columns:\n",
    "    if 'date' in col.lower():\n",
    "        df[col] = pd.to_datetime(df[col], errors='coerce')\n",
    "print(df.dtypes)"
   ]
  },
  {
   "cell_type": "code",
   "execution_count": null,
   "id": "d6ff8995",
   "metadata": {},
   "outputs": [],
   "source": [
    "# Data modification: create new features and drop unnecessary columns\n",
    "# Example: Create 'Car_Age' from 'Year' if 'Year' exists\n",
    "if 'Year' in df.columns:\n",
    "    df['Car_Age'] = date.today().year - df['Year']\n",
    "# Example: Drop columns that are not useful for analysis\n",
    "cols_to_drop = [col for col in ['Unnamed: 0', 'ID'] if col in df.columns]\n",
    "if cols_to_drop:\n",
    "    df.drop(cols_to_drop, axis=1, inplace=True)\n",
    "df.head()"
   ]
  }
 ],
 "metadata": {
  "language_info": {
   "name": "python"
  }
 },
 "nbformat": 4,
 "nbformat_minor": 5
}
